{
 "cells": [
  {
   "cell_type": "markdown",
   "id": "f40267a2-fc4c-4be3-a870-a1a602303a96",
   "metadata": {},
   "source": [
    "# Francisco García Mezano\n",
    "\n",
    "---\n",
    "\n",
    "* Data Lead\n",
    "* Data Manager\n",
    "* Data Scientist\n",
    "* Data Engineer"
   ]
  },
  {
   "cell_type": "code",
   "execution_count": 1,
   "id": "eb0dfad8-7fbb-4017-9610-e169c8ef3d87",
   "metadata": {},
   "outputs": [],
   "source": [
    "import json\n",
    "from IPython.core.display import Markdown"
   ]
  },
  {
   "cell_type": "code",
   "execution_count": 2,
   "id": "892fc4b0-0f86-45ba-ad50-61ddcc67c8c8",
   "metadata": {},
   "outputs": [],
   "source": [
    "with open('resume.json', 'r') as file:\n",
    "    resume = json.load(file)"
   ]
  },
  {
   "cell_type": "markdown",
   "id": "646e132d-79f1-4019-8d61-734b0e2c40bd",
   "metadata": {},
   "source": [
    "## Acerca de Mi\n",
    "\n",
    "---"
   ]
  },
  {
   "cell_type": "code",
   "execution_count": 3,
   "id": "c41f8f26-050c-454b-b945-e758585f1fb9",
   "metadata": {},
   "outputs": [
    {
     "data": {
      "text/markdown": [
       "Soy un líder orientado a resultados, apasionado por generar valor a través de los datos. A lo largo de más de 10 años, he liderado equipos multidisciplinarios en proyectos que maximizan la eficiencia operativa y facilitan la toma de decisiones estratégicas. He aplicado machine learning y técnicas avanzadas para resolver problemas complejos y crear soluciones innovadoras. Creo firmemente que la inteligencia artificial está transformando la forma en que interactuamos con los datos, y su potencial apenas comienza a revelarse. Mi compromiso es continuar aprovechando estas tecnologías para impulsar la innovación y el crecimiento empresarial."
      ],
      "text/plain": [
       "<IPython.core.display.Markdown object>"
      ]
     },
     "execution_count": 3,
     "metadata": {},
     "output_type": "execute_result"
    }
   ],
   "source": [
    "Markdown(resume.get('about_me', ''))"
   ]
  },
  {
   "cell_type": "markdown",
   "id": "eb863480-ee1d-456e-b758-ae9d16b61326",
   "metadata": {},
   "source": [
    "## Experiencia Profesional\n",
    "\n",
    "---"
   ]
  },
  {
   "cell_type": "code",
   "execution_count": 4,
   "id": "7c14235d-07c8-4877-9248-d0c165ed7cc6",
   "metadata": {},
   "outputs": [
    {
     "data": {
      "text/markdown": [
       "### Nowports \n",
       "**Febrero 2022 - Actualidad** \n",
       "#### **DataOps Manager** (Agosto 2023 - Actualidad)\n",
       " - Gestiono equipos de datos responsables de todo el flujo de información, desde el origen hasta la generación de valor. Aseguro la calidad de los datos, la integración de fuentes y la automatización de procesos, transformando los datos en insights accionables alineados con los objetivos estratégicos. \n",
       "#### **Data Team Lead** (Febrero 2022 - Agosto 2023)\n",
       " - Lideré un equipo multidisciplinario encargado de la integración de fuentes de datos externas, la automatización de procesos y el desarrollo de modelos de ciencia de datos para optimizar la eficiencia operativa y mejorar la toma de decisiones basada en datos. \n",
       "*** \n",
       "### Storecheck México \n",
       "**Marzo 2014 - Febrero 2022** \n",
       "#### **Data Science Manager** (Junio 2018 - Febrero 2022)\n",
       " - Lideré el desarrollo de modelos de machine learning para optimizar rutas de promotores, detectar productos faltantes y pronosticar la demanda. Implementamos un modelo de reconocimiento de imágenes para detectar productos en anaqueles, reduciendo tiempos de captura y permitiendo acciones en tiempo real. \n",
       "#### **Senior Manager Business Intelligence** (Agosto 2016 - Febrero 2022)\n",
       " - Desarrollé dashboards automatizados y personalizados para clientes, supervisando la creación de reportes ad-hoc. Añadí el producto de análisis de ventas, aumentando significativamente el volumen de datos gestionados y soportando el crecimiento operativo. \n",
       "#### **Business Intelligence Expert** (Marzo 2014 - Agosto 2016)\n",
       " - Lideré la transición de reportes en Excel a un sistema formal de Business Intelligence mediante la implementación de Tableau, mejorando el acceso y consumo de datos por parte de los clientes. \n",
       "*** \n",
       "### Consultor de Riesgos Financieros \n",
       "**Marzo 2010 - Diciembre 2012** \n",
       "#### **Consultor Independiente** (Marzo 2010 - Diciembre 2012)\n",
       " - Asesoré a pequeñas instituciones financieras en análisis de riesgos y creación de informes regulatorios. Implementé estrategias de evaluación crediticia que mejoraron su sostenibilidad financiera. \n",
       "*** \n",
       "### Financiera Ahorros Bienestar \n",
       "**Junio 2006 - Febrero 2010** \n",
       "#### **Administrador de Riesgos y Finanzas** (Junio 2006 - Febrero 2010)\n",
       " - Desarrollé el departamento de riesgos, cumpliendo con los requisitos de la CNBV. Implementé un modelo de credit score que mejoró la evaluación crediticia y redujo la exposición al riesgo. Fui responsable de los estados financieros mensuales y su presentación ante la CNBV. \n",
       "*** \n"
      ],
      "text/plain": [
       "<IPython.core.display.Markdown object>"
      ]
     },
     "execution_count": 4,
     "metadata": {},
     "output_type": "execute_result"
    }
   ],
   "source": [
    "md = \"\"\n",
    "for experience in resume.get(\"professional_experience\", []):\n",
    "    md += f\"### {experience['company']} \\n\"\n",
    "    md += f\"**{experience['dates']}** \\n\"\n",
    "    for position in experience.get(\"positions\", []):\n",
    "        md += f\"#### **{position['title']}** ({position['dates']})\\n\"\n",
    "        md += f\" - {position['responsibilities']} \\n\"\n",
    "    md += \"*** \\n\"\n",
    "Markdown(md)"
   ]
  },
  {
   "cell_type": "markdown",
   "id": "acf796e7-bdc4-44e0-a22f-3bb2cd1c701d",
   "metadata": {},
   "source": [
    "## Educación\n",
    "\n",
    "---"
   ]
  },
  {
   "cell_type": "code",
   "execution_count": 5,
   "id": "60dadfad-41f0-49f4-91f6-bfc4a9b386d8",
   "metadata": {},
   "outputs": [
    {
     "data": {
      "text/markdown": [
       "### Maestría en Big Data \n",
       "#### **Universidad Internacional de La Rioja (UNIR)** (2023 - Actual)\n",
       " - Maestría en Big Data con especialización en Inteligencia Artificial \n",
       "### Licenciado en Estadística \n",
       "#### **Universidad Autónoma Chapingo** (2001 - 2006)\n",
       " - Me especialicé en Estadística Matemática, Predicción y Pronóstico, y Estadística en Genética, obteniendo una base sólida en análisis de datos y modelos predictivos. \n"
      ],
      "text/plain": [
       "<IPython.core.display.Markdown object>"
      ]
     },
     "execution_count": 5,
     "metadata": {},
     "output_type": "execute_result"
    }
   ],
   "source": [
    "md = \"\"\n",
    "for education in resume.get('education', []):\n",
    "    md += f\"### {education['degree']} \\n\"\n",
    "    md += f\"#### **{education['institution']}** ({education['dates']})\\n\"\n",
    "    md += f\" - {education['details']} \\n\"\n",
    "Markdown(md)"
   ]
  },
  {
   "cell_type": "markdown",
   "id": "8cae038b-cc8b-4d46-ac83-84b82c81cedc",
   "metadata": {},
   "source": [
    "## Habilidades Técnicas\n",
    "\n",
    "---"
   ]
  },
  {
   "cell_type": "code",
   "execution_count": 6,
   "id": "06a04c21-c505-4b70-b70a-f6c5b9f1f079",
   "metadata": {},
   "outputs": [
    {
     "data": {
      "text/markdown": [
       "### Lenguajes de Programación \n",
       " * Python \n",
       " * SQL \n",
       " * R \n",
       "### Herramientas \n",
       " * Redshift \n",
       " * Airflow \n",
       " * Flask \n",
       " * Power BI \n",
       " * Tableau \n",
       " * Docker \n",
       " * PySpark \n",
       " * Glue \n",
       " * Git/GitHub \n",
       " * LangChain \n",
       " * CrewAI \n",
       " * Cassandra \n",
       " * MongoDB \n",
       "### Metodologías \n",
       " * Machine Learning \n",
       " * Modelos Predictivos \n",
       " * BI \n",
       " * DataOps \n",
       " * Big Data \n",
       " * Scrum \n"
      ],
      "text/plain": [
       "<IPython.core.display.Markdown object>"
      ]
     },
     "execution_count": 6,
     "metadata": {},
     "output_type": "execute_result"
    }
   ],
   "source": [
    "ts = resume.get('technical_skills', {})\n",
    "md = \"### Lenguajes de Programación \\n\"\n",
    "for element in ts.get('languages', []):\n",
    "    md += f\" * {element} \\n\"\n",
    "md += \"### Herramientas \\n\"\n",
    "for element in ts.get('tools', []):\n",
    "    md += f\" * {element} \\n\"\n",
    "md += \"### Metodologías \\n\"\n",
    "for element in ts.get('methodologies', []):\n",
    "    md += f\" * {element} \\n\"\n",
    "Markdown(md)"
   ]
  },
  {
   "cell_type": "markdown",
   "id": "520d71b2-498b-482b-af17-6d22c87f0dd5",
   "metadata": {},
   "source": [
    "##### Este documento fue realizado con Jupyter Notebook\n",
    "https://github.com/Mezano85/mezano85.github.io"
   ]
  }
 ],
 "metadata": {
  "kernelspec": {
   "display_name": "Python 3 (ipykernel)",
   "language": "python",
   "name": "python3"
  },
  "language_info": {
   "codemirror_mode": {
    "name": "ipython",
    "version": 3
   },
   "file_extension": ".py",
   "mimetype": "text/x-python",
   "name": "python",
   "nbconvert_exporter": "python",
   "pygments_lexer": "ipython3",
   "version": "3.11.6"
  }
 },
 "nbformat": 4,
 "nbformat_minor": 5
}
